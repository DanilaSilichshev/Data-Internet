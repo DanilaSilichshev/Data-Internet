{
 "cells": [
  {
   "cell_type": "markdown",
   "metadata": {},
   "source": [
    "<i>2. Написать функцию, которая производит поиск и выводит на экран вакансии с заработной платой больше введённой суммы (необходимо анализировать оба поля зарплаты). Для тех, кто выполнил задание с Росконтролем - напишите запрос для поиска продуктов с рейтингом не ниже введенного или качеством не ниже введенного (то есть цифра вводится одна, а запрос проверяет оба поля)</i>"
   ]
  },
  {
   "cell_type": "code",
   "execution_count": 1,
   "metadata": {},
   "outputs": [],
   "source": [
    "from pymongo import MongoClient\n",
    "from mongoDB_functions import select_greater\n",
    "from pprint import pprint"
   ]
  },
  {
   "cell_type": "code",
   "execution_count": 2,
   "metadata": {},
   "outputs": [],
   "source": [
    "client = MongoClient(\"localhost\", 27017)"
   ]
  },
  {
   "cell_type": "code",
   "execution_count": 3,
   "metadata": {},
   "outputs": [],
   "source": [
    "db = client[\"vacancies\"]"
   ]
  },
  {
   "cell_type": "code",
   "execution_count": 4,
   "metadata": {},
   "outputs": [],
   "source": [
    "vacancies = db.vacancies"
   ]
  },
  {
   "cell_type": "code",
   "execution_count": 5,
   "metadata": {
    "scrolled": true
   },
   "outputs": [
    {
     "name": "stdout",
     "output_type": "stream",
     "text": [
      "Введите число для сравнения с минимальной зарплатой: 600000\n",
      "Введите число для сравнения с максимальной зарплатой: 500000\n"
     ]
    }
   ],
   "source": [
    "sample = select_greater(client, \"vacancies\")"
   ]
  },
  {
   "cell_type": "code",
   "execution_count": 6,
   "metadata": {
    "scrolled": false
   },
   "outputs": [
    {
     "name": "stdout",
     "output_type": "stream",
     "text": [
      "{'_id': -3609613084907420818,\n",
      " 'address': 'Алматы',\n",
      " 'currency': 'KZT',\n",
      " 'employer': 'ТОО\\xa0TAKLIMAKAN C.I.G.',\n",
      " 'link': 'https://hh.kz/vacancy/52229832?from=vacancy_search_list&hhtmFrom=vacancy_search_list&query=python',\n",
      " 'max_salary': 1000000.0,\n",
      " 'min_salary': 700000.0,\n",
      " 'title': 'Backend developer'}\n",
      "{'_id': -4608338159208316859,\n",
      " 'address': 'Алматы, Абая',\n",
      " 'currency': 'KZT',\n",
      " 'employer': 'ТОО\\xa0Relog.kz',\n",
      " 'link': 'https://hh.kz/vacancy/49071601?from=vacancy_search_list&hhtmFrom=vacancy_search_list&query=python',\n",
      " 'max_salary': 1500000.0,\n",
      " 'min_salary': None,\n",
      " 'title': 'Backend - разработчик Node.js/GO/Python/JS/C# (Senior)'}\n",
      "{'_id': -5289577835391656324,\n",
      " 'address': 'Алматы',\n",
      " 'currency': 'KZT',\n",
      " 'employer': 'Kolesa Group',\n",
      " 'link': 'https://hh.kz/vacancy/49366427?from=vacancy_search_list&hhtmFrom=vacancy_search_list&query=python',\n",
      " 'max_salary': 900000.0,\n",
      " 'min_salary': 600000.0,\n",
      " 'title': 'Data-инженер'}\n",
      "{'_id': 6298461560423672247,\n",
      " 'address': 'Алматы',\n",
      " 'currency': 'KZT',\n",
      " 'employer': 'ТОО\\xa0Relog.kz',\n",
      " 'link': 'https://hh.kz/vacancy/49071307?from=vacancy_search_list&hhtmFrom=vacancy_search_list&query=python',\n",
      " 'max_salary': 1300000.0,\n",
      " 'min_salary': 600000.0,\n",
      " 'title': 'AI-инженер'}\n",
      "{'_id': -3950208669568750600,\n",
      " 'address': 'Алматы, Алатау',\n",
      " 'currency': 'KZT',\n",
      " 'employer': 'Kolesa Group',\n",
      " 'link': 'https://hh.kz/vacancy/51243806?from=vacancy_search_list&hhtmFrom=vacancy_search_list&query=python',\n",
      " 'max_salary': 1500000.0,\n",
      " 'min_salary': 700000.0,\n",
      " 'title': 'Machine Learning Engineer (специалист по машинному обучению)'}\n",
      "{'_id': 937841698467177241,\n",
      " 'address': 'Алматы',\n",
      " 'currency': 'KZT',\n",
      " 'employer': 'Kolesa Group',\n",
      " 'link': 'https://hh.kz/vacancy/50464787?from=vacancy_search_list&hhtmFrom=vacancy_search_list&query=python',\n",
      " 'max_salary': 1300000.0,\n",
      " 'min_salary': 400000.0,\n",
      " 'title': 'Python-разработчик'}\n",
      "{'_id': -6826201548385818708,\n",
      " 'address': 'Нур-Султан',\n",
      " 'currency': 'KZT',\n",
      " 'employer': 'ТОО\\xa0SOMNIUM',\n",
      " 'link': 'https://hh.kz/vacancy/52233577?from=vacancy_search_list&hhtmFrom=vacancy_search_list&query=python',\n",
      " 'max_salary': 800000.0,\n",
      " 'min_salary': 300000.0,\n",
      " 'title': 'Backend-разработчик (Python)'}\n",
      "{'_id': -980057755657823982,\n",
      " 'address': 'Алматы',\n",
      " 'currency': 'KZT',\n",
      " 'employer': 'ТОО\\xa0Fingram',\n",
      " 'link': 'https://hh.kz/vacancy/52647097?from=vacancy_search_list&hhtmFrom=vacancy_search_list&query=python',\n",
      " 'max_salary': 1200000.0,\n",
      " 'min_salary': 600000.0,\n",
      " 'title': 'Backend Java/ Python/ etc разработчик'}\n",
      "{'_id': 2187353693467039869,\n",
      " 'address': 'Нур-Султан',\n",
      " 'currency': 'KZT',\n",
      " 'employer': 'Частная компания Uvu International Ltd',\n",
      " 'link': 'https://hh.kz/vacancy/52110794?from=vacancy_search_list&hhtmFrom=vacancy_search_list&query=python',\n",
      " 'max_salary': 1500000.0,\n",
      " 'min_salary': 900000.0,\n",
      " 'title': 'Senior/Middle Django Developer'}\n",
      "{'_id': 6950821595779898408,\n",
      " 'address': 'Алматы',\n",
      " 'currency': 'KZT',\n",
      " 'employer': 'ТОО\\xa0IBA Astana Hub (АйБиЭй Астана Хаб)',\n",
      " 'link': 'https://hh.kz/vacancy/52271685?from=vacancy_search_list&hhtmFrom=vacancy_search_list&query=python',\n",
      " 'max_salary': 1500000.0,\n",
      " 'min_salary': 500000.0,\n",
      " 'title': 'Middle/Senior DevOps Engineer'}\n",
      "{'_id': 3336000860925170299,\n",
      " 'address': 'Алматы',\n",
      " 'currency': 'KZT',\n",
      " 'employer': 'ТОО\\xa0Коркем Телеком',\n",
      " 'link': 'https://hh.kz/vacancy/53162379?from=vacancy_search_list&hhtmFrom=vacancy_search_list&query=python',\n",
      " 'max_salary': 700000.0,\n",
      " 'min_salary': 450000.0,\n",
      " 'title': 'Software developer (C++)'}\n",
      "{'_id': 2509714867622186227,\n",
      " 'address': 'Караганда',\n",
      " 'currency': 'KZT',\n",
      " 'employer': 'ТОО\\xa0IBA Astana Hub (АйБиЭй Астана Хаб)',\n",
      " 'link': 'https://hh.kz/vacancy/52893406?from=vacancy_search_list&hhtmFrom=vacancy_search_list&query=python',\n",
      " 'max_salary': 1500000.0,\n",
      " 'min_salary': 500000.0,\n",
      " 'title': 'Middle/Senior DevOps Engineer'}\n",
      "{'_id': 7270817480559409918,\n",
      " 'address': 'Алматы',\n",
      " 'currency': 'KZT',\n",
      " 'employer': 'ТОО\\xa0One technologies',\n",
      " 'link': 'https://hh.kz/vacancy/47504849?from=vacancy_search_list&hhtmFrom=vacancy_search_list&query=python',\n",
      " 'max_salary': 1200000.0,\n",
      " 'min_salary': 350000.0,\n",
      " 'title': 'Middle/Senior Go Developer'}\n",
      "{'_id': -113555041593569920,\n",
      " 'address': 'Алматы',\n",
      " 'currency': 'KZT',\n",
      " 'employer': 'Общ. орг.\\xa0Центр анализа и расследования кибер атак',\n",
      " 'link': 'https://hh.kz/vacancy/52901635?from=vacancy_search_list&hhtmFrom=vacancy_search_list&query=python',\n",
      " 'max_salary': 800000.0,\n",
      " 'min_salary': 400000.0,\n",
      " 'title': 'DevOps инженер (middle / senior)'}\n",
      "{'_id': 4540678391117751145,\n",
      " 'address': 'Алматы',\n",
      " 'currency': 'KZT',\n",
      " 'employer': 'ТОО\\xa0Транспортный холдинг города Алматы',\n",
      " 'link': 'https://hh.kz/vacancy/52228356?from=vacancy_search_list&hhtmFrom=vacancy_search_list&query=python',\n",
      " 'max_salary': None,\n",
      " 'min_salary': 800000.0,\n",
      " 'title': 'Разработчик (Senior/Middle Web-Developer) DWH'}\n",
      "{'_id': -2866614697220161810,\n",
      " 'address': 'Алматы',\n",
      " 'currency': 'KZT',\n",
      " 'employer': 'ТОО\\xa0Biometric(Биометрик)',\n",
      " 'link': 'https://hh.kz/vacancy/52149918?from=vacancy_search_list&hhtmFrom=vacancy_search_list&query=python',\n",
      " 'max_salary': 800000.0,\n",
      " 'min_salary': 300000.0,\n",
      " 'title': 'Middle разработчик'}\n"
     ]
    }
   ],
   "source": [
    "for object in sample:\n",
    "    pprint(object)"
   ]
  }
 ],
 "metadata": {
  "kernelspec": {
   "display_name": "Python 3",
   "language": "python",
   "name": "python3"
  },
  "language_info": {
   "codemirror_mode": {
    "name": "ipython",
    "version": 3
   },
   "file_extension": ".py",
   "mimetype": "text/x-python",
   "name": "python",
   "nbconvert_exporter": "python",
   "pygments_lexer": "ipython3",
   "version": "3.7.4"
  }
 },
 "nbformat": 4,
 "nbformat_minor": 2
}
